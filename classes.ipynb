{
 "cells": [
  {
   "cell_type": "code",
   "execution_count": 2,
   "metadata": {
    "collapsed": true,
    "pycharm": {
     "is_executing": false
    }
   },
   "outputs": [
    {
     "name": "stdout",
     "text": [
      "crd\n",
      "4ss14ss000\n"
     ],
     "output_type": "stream"
    }
   ],
   "source": [
    "class student:\n",
    "    def __init__(self, USN, Name):\n",
    "        self.USN = USN\n",
    "        self.Name = Name\n",
    "    def getName(self):\n",
    "        print(self.Name)\n",
    "    def getUSN(self):\n",
    "        print(self.USN)\n",
    "s = student('4ss14ss000', 'crd')\n",
    "\n",
    "student.getName(s) #it is like static methods in a class\n",
    "\n",
    "# from object also a method can be called\n",
    "s.getUSN()\n"
   ]
  },
  {
   "cell_type": "code",
   "execution_count": null,
   "outputs": [],
   "source": [
    "\n"
   ],
   "metadata": {
    "collapsed": false,
    "pycharm": {
     "name": "#%%\n"
    }
   }
  }
 ],
 "metadata": {
  "kernelspec": {
   "display_name": "Python 3",
   "language": "python",
   "name": "python3"
  },
  "language_info": {
   "codemirror_mode": {
    "name": "ipython",
    "version": 2
   },
   "file_extension": ".py",
   "mimetype": "text/x-python",
   "name": "python",
   "nbconvert_exporter": "python",
   "pygments_lexer": "ipython2",
   "version": "2.7.6"
  },
  "pycharm": {
   "stem_cell": {
    "cell_type": "raw",
    "source": [],
    "metadata": {
     "collapsed": false
    }
   }
  }
 },
 "nbformat": 4,
 "nbformat_minor": 0
}