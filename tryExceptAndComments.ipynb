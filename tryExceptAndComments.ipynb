{
 "cells": [
  {
   "cell_type": "code",
   "execution_count": 3,
   "metadata": {
    "collapsed": true,
    "pycharm": {
     "is_executing": false
    }
   },
   "outputs": [
    {
     "name": "stdout",
     "text": [
      "myname is crd\n"
     ],
     "output_type": "stream"
    }
   ],
   "source": [
    "name = 'crd'\n",
    "try:\n",
    "    if(name=='crd'):\n",
    "        print('myname is ' + name)\n",
    "except: # similar to catch block\n",
    "    print('sorry something went wrong')\n",
    "\n",
    "# comments section!\n",
    "\n",
    "# single line comment with #\n",
    "# mutli line comment with quotes\n",
    "    \"\"\"\n",
    "    this is \n",
    "    multi line \n",
    "    comment\n",
    "    \"\"\""
   ]
  },
  {
   "cell_type": "code",
   "execution_count": null,
   "outputs": [],
   "source": [
    "\n"
   ],
   "metadata": {
    "collapsed": false,
    "pycharm": {
     "name": "#%%\n"
    }
   }
  }
 ],
 "metadata": {
  "kernelspec": {
   "display_name": "Python 3",
   "language": "python",
   "name": "python3"
  },
  "language_info": {
   "codemirror_mode": {
    "name": "ipython",
    "version": 2
   },
   "file_extension": ".py",
   "mimetype": "text/x-python",
   "name": "python",
   "nbconvert_exporter": "python",
   "pygments_lexer": "ipython2",
   "version": "2.7.6"
  },
  "pycharm": {
   "stem_cell": {
    "cell_type": "raw",
    "source": [],
    "metadata": {
     "collapsed": false
    }
   }
  }
 },
 "nbformat": 4,
 "nbformat_minor": 0
}